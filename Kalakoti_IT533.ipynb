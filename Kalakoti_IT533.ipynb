{
  "nbformat": 4,
  "nbformat_minor": 0,
  "metadata": {
    "colab": {
      "name": "Kalakoti_IT533.ipynb",
      "provenance": [],
      "authorship_tag": "ABX9TyN6C9N/keSNxRA42tasAR60",
      "include_colab_link": true
    },
    "kernelspec": {
      "name": "python3",
      "display_name": "Python 3"
    },
    "language_info": {
      "name": "python"
    }
  },
  "cells": [
    {
      "cell_type": "markdown",
      "metadata": {
        "id": "view-in-github",
        "colab_type": "text"
      },
      "source": [
        "<a href=\"https://colab.research.google.com/github/ThriveniKalakoti/Kalakoti_IT533/blob/main/Kalakoti_IT533.ipynb\" target=\"_parent\"><img src=\"https://colab.research.google.com/assets/colab-badge.svg\" alt=\"Open In Colab\"/></a>"
      ]
    },
    {
      "cell_type": "code",
      "execution_count": 53,
      "metadata": {
        "id": "vaSTyar9YFqK"
      },
      "outputs": [],
      "source": [
        "import numpy as np\n",
        "import pandas as pd \n",
        "import matplotlib.pyplot as plt\n",
        "import plotly.express as px"
      ]
    },
    {
      "cell_type": "code",
      "source": [
        "kickstart = pd.read_csv(\"https://raw.githubusercontent.com/ThriveniKalakoti/Kalakoti_IT533/main/kickstart\")"
      ],
      "metadata": {
        "id": "kFxEaOoIYSU9"
      },
      "execution_count": 10,
      "outputs": []
    },
    {
      "cell_type": "code",
      "source": [
        "kickstart.head(15)"
      ],
      "metadata": {
        "colab": {
          "base_uri": "https://localhost:8080/",
          "height": 1000
        },
        "id": "sfb-KgZWYdME",
        "outputId": "d93d459e-8aef-4f0f-93a0-57d3c7f55903"
      },
      "execution_count": 73,
      "outputs": [
        {
          "output_type": "execute_result",
          "data": {
            "text/plain": [
              "            ID                                               name  \\\n",
              "0   1008941852                       The return of BABY UNIVERSE!   \n",
              "1   1013503401                                             Potjie   \n",
              "2   1020446396  Stilt City- A Bungalow Artist Space in The Roc...   \n",
              "3   1028008131       A 2D SideScroller RPG Made by YOU (Canceled)   \n",
              "4   1049544313                                       Balteus Belt   \n",
              "5   1049624554  A Bicycle Built for Two Billion: A Memoir & Fa...   \n",
              "6   1054657017  Retreat Center / Yoga Studio website and ecomm...   \n",
              "7   1059344609                                     Driftless Café   \n",
              "8    106487431                             DogDanner™ (Suspended)   \n",
              "9   1069751616                  Tank Gunn's Custom Hat's and Tees   \n",
              "10  1071588376              Fiery Sushi Takes the World By Storm!   \n",
              "11  1074058555          Steel Hawks F.I.R.S.T. Robotics Team 2601   \n",
              "12  1075689508                                          Movie Set   \n",
              "13  1076088595               ArduRF - Wireless Arduino Done Right   \n",
              "14  1092230002                  The G.O.O.DLIFE Online Radio Show   \n",
              "\n",
              "            category main_category currency  deadline   goal  \\\n",
              "0          Immersive       Theater      USD  1/1/2015  15000   \n",
              "1              Drama  Film & Video      GBP  1/1/2015   4500   \n",
              "2         Public Art           Art      USD  1/1/2015  60000   \n",
              "3        Video Games         Games      USD  1/1/2015  20000   \n",
              "4            Apparel       Fashion      USD  1/1/2015   8000   \n",
              "5         Nonfiction    Publishing      USD  1/1/2015   8500   \n",
              "6                Web    Technology      USD  1/1/2015  22000   \n",
              "7        Restaurants          Food      USD  1/1/2015  35000   \n",
              "8        Pet Fashion       Fashion      USD  1/1/2015  10000   \n",
              "9            Fashion       Fashion      CAD  1/1/2015  25000   \n",
              "10              Rock         Music      USD  1/1/2015   1000   \n",
              "11            Robots    Technology      USD  1/1/2015   8000   \n",
              "12      Film & Video  Film & Video      USD  1/1/2015   2500   \n",
              "13          Hardware    Technology      USD  1/1/2015   9500   \n",
              "14  Radio & Podcasts    Publishing      USD  1/1/2015   5000   \n",
              "\n",
              "            launched   pledged       state  backers country  usd pledged  \\\n",
              "0    12/4/2014 21:37  11880.18      failed       46      US     11880.18   \n",
              "1    12/2/2014 18:10   4843.00  successful       67      GB      7560.32   \n",
              "2   11/19/2014 23:14  18087.00    canceled      204      US     18087.00   \n",
              "3    12/2/2014 22:02      9.00    canceled        2      US         9.00   \n",
              "4   11/18/2014 21:17   1563.00      failed       16      US      1563.00   \n",
              "5    11/25/2014 6:52  10371.00  successful      189      US     10371.00   \n",
              "6    11/25/2014 2:02      1.00      failed        1      US         1.00   \n",
              "7     12/4/2014 1:34  40625.00  successful      287      US     40625.00   \n",
              "8    11/27/2014 0:22   5319.00   suspended      217      US      5319.00   \n",
              "9    12/2/2014 23:43     34.00      failed        3      CA        29.74   \n",
              "10   11/4/2014 18:59   1150.00  successful       20      US      1150.00   \n",
              "11    11/2/2014 5:05   8626.00  successful       47      US      8626.00   \n",
              "12   12/2/2014 23:11      0.00   undefined        0    N,0\"          NaN   \n",
              "13    12/1/2014 7:33  10473.00  successful       93      US     10473.00   \n",
              "14   11/3/2014 20:48   5050.00  successful       24      US      5050.00   \n",
              "\n",
              "    usd_pledged_real  usd_goal_real  \n",
              "0           11880.18       15000.00  \n",
              "1            7477.46        6947.88  \n",
              "2           18087.00       60000.00  \n",
              "3               9.00       20000.00  \n",
              "4            1563.00        8000.00  \n",
              "5           10371.00        8500.00  \n",
              "6               1.00       22000.00  \n",
              "7           40625.00       35000.00  \n",
              "8            5319.00       10000.00  \n",
              "9              29.10       21400.45  \n",
              "10           1150.00        1000.00  \n",
              "11           8626.00        8000.00  \n",
              "12              0.00        2500.00  \n",
              "13          10473.00        9500.00  \n",
              "14           5050.00        5000.00  "
            ],
            "text/html": [
              "\n",
              "  <div id=\"df-2d6eeae4-96c3-451b-8b7e-f0eb98e16a43\">\n",
              "    <div class=\"colab-df-container\">\n",
              "      <div>\n",
              "<style scoped>\n",
              "    .dataframe tbody tr th:only-of-type {\n",
              "        vertical-align: middle;\n",
              "    }\n",
              "\n",
              "    .dataframe tbody tr th {\n",
              "        vertical-align: top;\n",
              "    }\n",
              "\n",
              "    .dataframe thead th {\n",
              "        text-align: right;\n",
              "    }\n",
              "</style>\n",
              "<table border=\"1\" class=\"dataframe\">\n",
              "  <thead>\n",
              "    <tr style=\"text-align: right;\">\n",
              "      <th></th>\n",
              "      <th>ID</th>\n",
              "      <th>name</th>\n",
              "      <th>category</th>\n",
              "      <th>main_category</th>\n",
              "      <th>currency</th>\n",
              "      <th>deadline</th>\n",
              "      <th>goal</th>\n",
              "      <th>launched</th>\n",
              "      <th>pledged</th>\n",
              "      <th>state</th>\n",
              "      <th>backers</th>\n",
              "      <th>country</th>\n",
              "      <th>usd pledged</th>\n",
              "      <th>usd_pledged_real</th>\n",
              "      <th>usd_goal_real</th>\n",
              "    </tr>\n",
              "  </thead>\n",
              "  <tbody>\n",
              "    <tr>\n",
              "      <th>0</th>\n",
              "      <td>1008941852</td>\n",
              "      <td>The return of BABY UNIVERSE!</td>\n",
              "      <td>Immersive</td>\n",
              "      <td>Theater</td>\n",
              "      <td>USD</td>\n",
              "      <td>1/1/2015</td>\n",
              "      <td>15000</td>\n",
              "      <td>12/4/2014 21:37</td>\n",
              "      <td>11880.18</td>\n",
              "      <td>failed</td>\n",
              "      <td>46</td>\n",
              "      <td>US</td>\n",
              "      <td>11880.18</td>\n",
              "      <td>11880.18</td>\n",
              "      <td>15000.00</td>\n",
              "    </tr>\n",
              "    <tr>\n",
              "      <th>1</th>\n",
              "      <td>1013503401</td>\n",
              "      <td>Potjie</td>\n",
              "      <td>Drama</td>\n",
              "      <td>Film &amp; Video</td>\n",
              "      <td>GBP</td>\n",
              "      <td>1/1/2015</td>\n",
              "      <td>4500</td>\n",
              "      <td>12/2/2014 18:10</td>\n",
              "      <td>4843.00</td>\n",
              "      <td>successful</td>\n",
              "      <td>67</td>\n",
              "      <td>GB</td>\n",
              "      <td>7560.32</td>\n",
              "      <td>7477.46</td>\n",
              "      <td>6947.88</td>\n",
              "    </tr>\n",
              "    <tr>\n",
              "      <th>2</th>\n",
              "      <td>1020446396</td>\n",
              "      <td>Stilt City- A Bungalow Artist Space in The Roc...</td>\n",
              "      <td>Public Art</td>\n",
              "      <td>Art</td>\n",
              "      <td>USD</td>\n",
              "      <td>1/1/2015</td>\n",
              "      <td>60000</td>\n",
              "      <td>11/19/2014 23:14</td>\n",
              "      <td>18087.00</td>\n",
              "      <td>canceled</td>\n",
              "      <td>204</td>\n",
              "      <td>US</td>\n",
              "      <td>18087.00</td>\n",
              "      <td>18087.00</td>\n",
              "      <td>60000.00</td>\n",
              "    </tr>\n",
              "    <tr>\n",
              "      <th>3</th>\n",
              "      <td>1028008131</td>\n",
              "      <td>A 2D SideScroller RPG Made by YOU (Canceled)</td>\n",
              "      <td>Video Games</td>\n",
              "      <td>Games</td>\n",
              "      <td>USD</td>\n",
              "      <td>1/1/2015</td>\n",
              "      <td>20000</td>\n",
              "      <td>12/2/2014 22:02</td>\n",
              "      <td>9.00</td>\n",
              "      <td>canceled</td>\n",
              "      <td>2</td>\n",
              "      <td>US</td>\n",
              "      <td>9.00</td>\n",
              "      <td>9.00</td>\n",
              "      <td>20000.00</td>\n",
              "    </tr>\n",
              "    <tr>\n",
              "      <th>4</th>\n",
              "      <td>1049544313</td>\n",
              "      <td>Balteus Belt</td>\n",
              "      <td>Apparel</td>\n",
              "      <td>Fashion</td>\n",
              "      <td>USD</td>\n",
              "      <td>1/1/2015</td>\n",
              "      <td>8000</td>\n",
              "      <td>11/18/2014 21:17</td>\n",
              "      <td>1563.00</td>\n",
              "      <td>failed</td>\n",
              "      <td>16</td>\n",
              "      <td>US</td>\n",
              "      <td>1563.00</td>\n",
              "      <td>1563.00</td>\n",
              "      <td>8000.00</td>\n",
              "    </tr>\n",
              "    <tr>\n",
              "      <th>5</th>\n",
              "      <td>1049624554</td>\n",
              "      <td>A Bicycle Built for Two Billion: A Memoir &amp; Fa...</td>\n",
              "      <td>Nonfiction</td>\n",
              "      <td>Publishing</td>\n",
              "      <td>USD</td>\n",
              "      <td>1/1/2015</td>\n",
              "      <td>8500</td>\n",
              "      <td>11/25/2014 6:52</td>\n",
              "      <td>10371.00</td>\n",
              "      <td>successful</td>\n",
              "      <td>189</td>\n",
              "      <td>US</td>\n",
              "      <td>10371.00</td>\n",
              "      <td>10371.00</td>\n",
              "      <td>8500.00</td>\n",
              "    </tr>\n",
              "    <tr>\n",
              "      <th>6</th>\n",
              "      <td>1054657017</td>\n",
              "      <td>Retreat Center / Yoga Studio website and ecomm...</td>\n",
              "      <td>Web</td>\n",
              "      <td>Technology</td>\n",
              "      <td>USD</td>\n",
              "      <td>1/1/2015</td>\n",
              "      <td>22000</td>\n",
              "      <td>11/25/2014 2:02</td>\n",
              "      <td>1.00</td>\n",
              "      <td>failed</td>\n",
              "      <td>1</td>\n",
              "      <td>US</td>\n",
              "      <td>1.00</td>\n",
              "      <td>1.00</td>\n",
              "      <td>22000.00</td>\n",
              "    </tr>\n",
              "    <tr>\n",
              "      <th>7</th>\n",
              "      <td>1059344609</td>\n",
              "      <td>Driftless Café</td>\n",
              "      <td>Restaurants</td>\n",
              "      <td>Food</td>\n",
              "      <td>USD</td>\n",
              "      <td>1/1/2015</td>\n",
              "      <td>35000</td>\n",
              "      <td>12/4/2014 1:34</td>\n",
              "      <td>40625.00</td>\n",
              "      <td>successful</td>\n",
              "      <td>287</td>\n",
              "      <td>US</td>\n",
              "      <td>40625.00</td>\n",
              "      <td>40625.00</td>\n",
              "      <td>35000.00</td>\n",
              "    </tr>\n",
              "    <tr>\n",
              "      <th>8</th>\n",
              "      <td>106487431</td>\n",
              "      <td>DogDanner™ (Suspended)</td>\n",
              "      <td>Pet Fashion</td>\n",
              "      <td>Fashion</td>\n",
              "      <td>USD</td>\n",
              "      <td>1/1/2015</td>\n",
              "      <td>10000</td>\n",
              "      <td>11/27/2014 0:22</td>\n",
              "      <td>5319.00</td>\n",
              "      <td>suspended</td>\n",
              "      <td>217</td>\n",
              "      <td>US</td>\n",
              "      <td>5319.00</td>\n",
              "      <td>5319.00</td>\n",
              "      <td>10000.00</td>\n",
              "    </tr>\n",
              "    <tr>\n",
              "      <th>9</th>\n",
              "      <td>1069751616</td>\n",
              "      <td>Tank Gunn's Custom Hat's and Tees</td>\n",
              "      <td>Fashion</td>\n",
              "      <td>Fashion</td>\n",
              "      <td>CAD</td>\n",
              "      <td>1/1/2015</td>\n",
              "      <td>25000</td>\n",
              "      <td>12/2/2014 23:43</td>\n",
              "      <td>34.00</td>\n",
              "      <td>failed</td>\n",
              "      <td>3</td>\n",
              "      <td>CA</td>\n",
              "      <td>29.74</td>\n",
              "      <td>29.10</td>\n",
              "      <td>21400.45</td>\n",
              "    </tr>\n",
              "    <tr>\n",
              "      <th>10</th>\n",
              "      <td>1071588376</td>\n",
              "      <td>Fiery Sushi Takes the World By Storm!</td>\n",
              "      <td>Rock</td>\n",
              "      <td>Music</td>\n",
              "      <td>USD</td>\n",
              "      <td>1/1/2015</td>\n",
              "      <td>1000</td>\n",
              "      <td>11/4/2014 18:59</td>\n",
              "      <td>1150.00</td>\n",
              "      <td>successful</td>\n",
              "      <td>20</td>\n",
              "      <td>US</td>\n",
              "      <td>1150.00</td>\n",
              "      <td>1150.00</td>\n",
              "      <td>1000.00</td>\n",
              "    </tr>\n",
              "    <tr>\n",
              "      <th>11</th>\n",
              "      <td>1074058555</td>\n",
              "      <td>Steel Hawks F.I.R.S.T. Robotics Team 2601</td>\n",
              "      <td>Robots</td>\n",
              "      <td>Technology</td>\n",
              "      <td>USD</td>\n",
              "      <td>1/1/2015</td>\n",
              "      <td>8000</td>\n",
              "      <td>11/2/2014 5:05</td>\n",
              "      <td>8626.00</td>\n",
              "      <td>successful</td>\n",
              "      <td>47</td>\n",
              "      <td>US</td>\n",
              "      <td>8626.00</td>\n",
              "      <td>8626.00</td>\n",
              "      <td>8000.00</td>\n",
              "    </tr>\n",
              "    <tr>\n",
              "      <th>12</th>\n",
              "      <td>1075689508</td>\n",
              "      <td>Movie Set</td>\n",
              "      <td>Film &amp; Video</td>\n",
              "      <td>Film &amp; Video</td>\n",
              "      <td>USD</td>\n",
              "      <td>1/1/2015</td>\n",
              "      <td>2500</td>\n",
              "      <td>12/2/2014 23:11</td>\n",
              "      <td>0.00</td>\n",
              "      <td>undefined</td>\n",
              "      <td>0</td>\n",
              "      <td>N,0\"</td>\n",
              "      <td>NaN</td>\n",
              "      <td>0.00</td>\n",
              "      <td>2500.00</td>\n",
              "    </tr>\n",
              "    <tr>\n",
              "      <th>13</th>\n",
              "      <td>1076088595</td>\n",
              "      <td>ArduRF - Wireless Arduino Done Right</td>\n",
              "      <td>Hardware</td>\n",
              "      <td>Technology</td>\n",
              "      <td>USD</td>\n",
              "      <td>1/1/2015</td>\n",
              "      <td>9500</td>\n",
              "      <td>12/1/2014 7:33</td>\n",
              "      <td>10473.00</td>\n",
              "      <td>successful</td>\n",
              "      <td>93</td>\n",
              "      <td>US</td>\n",
              "      <td>10473.00</td>\n",
              "      <td>10473.00</td>\n",
              "      <td>9500.00</td>\n",
              "    </tr>\n",
              "    <tr>\n",
              "      <th>14</th>\n",
              "      <td>1092230002</td>\n",
              "      <td>The G.O.O.DLIFE Online Radio Show</td>\n",
              "      <td>Radio &amp; Podcasts</td>\n",
              "      <td>Publishing</td>\n",
              "      <td>USD</td>\n",
              "      <td>1/1/2015</td>\n",
              "      <td>5000</td>\n",
              "      <td>11/3/2014 20:48</td>\n",
              "      <td>5050.00</td>\n",
              "      <td>successful</td>\n",
              "      <td>24</td>\n",
              "      <td>US</td>\n",
              "      <td>5050.00</td>\n",
              "      <td>5050.00</td>\n",
              "      <td>5000.00</td>\n",
              "    </tr>\n",
              "  </tbody>\n",
              "</table>\n",
              "</div>\n",
              "      <button class=\"colab-df-convert\" onclick=\"convertToInteractive('df-2d6eeae4-96c3-451b-8b7e-f0eb98e16a43')\"\n",
              "              title=\"Convert this dataframe to an interactive table.\"\n",
              "              style=\"display:none;\">\n",
              "        \n",
              "  <svg xmlns=\"http://www.w3.org/2000/svg\" height=\"24px\"viewBox=\"0 0 24 24\"\n",
              "       width=\"24px\">\n",
              "    <path d=\"M0 0h24v24H0V0z\" fill=\"none\"/>\n",
              "    <path d=\"M18.56 5.44l.94 2.06.94-2.06 2.06-.94-2.06-.94-.94-2.06-.94 2.06-2.06.94zm-11 1L8.5 8.5l.94-2.06 2.06-.94-2.06-.94L8.5 2.5l-.94 2.06-2.06.94zm10 10l.94 2.06.94-2.06 2.06-.94-2.06-.94-.94-2.06-.94 2.06-2.06.94z\"/><path d=\"M17.41 7.96l-1.37-1.37c-.4-.4-.92-.59-1.43-.59-.52 0-1.04.2-1.43.59L10.3 9.45l-7.72 7.72c-.78.78-.78 2.05 0 2.83L4 21.41c.39.39.9.59 1.41.59.51 0 1.02-.2 1.41-.59l7.78-7.78 2.81-2.81c.8-.78.8-2.07 0-2.86zM5.41 20L4 18.59l7.72-7.72 1.47 1.35L5.41 20z\"/>\n",
              "  </svg>\n",
              "      </button>\n",
              "      \n",
              "  <style>\n",
              "    .colab-df-container {\n",
              "      display:flex;\n",
              "      flex-wrap:wrap;\n",
              "      gap: 12px;\n",
              "    }\n",
              "\n",
              "    .colab-df-convert {\n",
              "      background-color: #E8F0FE;\n",
              "      border: none;\n",
              "      border-radius: 50%;\n",
              "      cursor: pointer;\n",
              "      display: none;\n",
              "      fill: #1967D2;\n",
              "      height: 32px;\n",
              "      padding: 0 0 0 0;\n",
              "      width: 32px;\n",
              "    }\n",
              "\n",
              "    .colab-df-convert:hover {\n",
              "      background-color: #E2EBFA;\n",
              "      box-shadow: 0px 1px 2px rgba(60, 64, 67, 0.3), 0px 1px 3px 1px rgba(60, 64, 67, 0.15);\n",
              "      fill: #174EA6;\n",
              "    }\n",
              "\n",
              "    [theme=dark] .colab-df-convert {\n",
              "      background-color: #3B4455;\n",
              "      fill: #D2E3FC;\n",
              "    }\n",
              "\n",
              "    [theme=dark] .colab-df-convert:hover {\n",
              "      background-color: #434B5C;\n",
              "      box-shadow: 0px 1px 3px 1px rgba(0, 0, 0, 0.15);\n",
              "      filter: drop-shadow(0px 1px 2px rgba(0, 0, 0, 0.3));\n",
              "      fill: #FFFFFF;\n",
              "    }\n",
              "  </style>\n",
              "\n",
              "      <script>\n",
              "        const buttonEl =\n",
              "          document.querySelector('#df-2d6eeae4-96c3-451b-8b7e-f0eb98e16a43 button.colab-df-convert');\n",
              "        buttonEl.style.display =\n",
              "          google.colab.kernel.accessAllowed ? 'block' : 'none';\n",
              "\n",
              "        async function convertToInteractive(key) {\n",
              "          const element = document.querySelector('#df-2d6eeae4-96c3-451b-8b7e-f0eb98e16a43');\n",
              "          const dataTable =\n",
              "            await google.colab.kernel.invokeFunction('convertToInteractive',\n",
              "                                                     [key], {});\n",
              "          if (!dataTable) return;\n",
              "\n",
              "          const docLinkHtml = 'Like what you see? Visit the ' +\n",
              "            '<a target=\"_blank\" href=https://colab.research.google.com/notebooks/data_table.ipynb>data table notebook</a>'\n",
              "            + ' to learn more about interactive tables.';\n",
              "          element.innerHTML = '';\n",
              "          dataTable['output_type'] = 'display_data';\n",
              "          await google.colab.output.renderOutput(dataTable, element);\n",
              "          const docLink = document.createElement('div');\n",
              "          docLink.innerHTML = docLinkHtml;\n",
              "          element.appendChild(docLink);\n",
              "        }\n",
              "      </script>\n",
              "    </div>\n",
              "  </div>\n",
              "  "
            ]
          },
          "metadata": {},
          "execution_count": 73
        }
      ]
    },
    {
      "cell_type": "markdown",
      "source": [
        "1. What is the structure of the dataset? How many columns and rows does it have?"
      ],
      "metadata": {
        "id": "AbHRSs_fs1ZB"
      }
    },
    {
      "cell_type": "code",
      "source": [
        "kickstart.info"
      ],
      "metadata": {
        "colab": {
          "base_uri": "https://localhost:8080/"
        },
        "id": "N7jbFcEfbFab",
        "outputId": "96e90cc1-741c-4874-f6b8-3ccaeb9d3e20"
      },
      "execution_count": 12,
      "outputs": [
        {
          "output_type": "execute_result",
          "data": {
            "text/plain": [
              "<bound method DataFrame.info of                 ID                                               name  \\\n",
              "0       1008941852                       The return of BABY UNIVERSE!   \n",
              "1       1013503401                                             Potjie   \n",
              "2       1020446396  Stilt City- A Bungalow Artist Space in The Roc...   \n",
              "3       1028008131       A 2D SideScroller RPG Made by YOU (Canceled)   \n",
              "4       1049544313                                       Balteus Belt   \n",
              "...            ...                                                ...   \n",
              "191580    55596200                         Plateforme de statistiques   \n",
              "191581   872683023  The Lewisham Ledger - a new free local communi...   \n",
              "191582  1036415983                                      Aikyam : Onnu   \n",
              "191583  1916988520                          Back in Black Hills Movie   \n",
              "191584    22387366                                       Nerd Collect   \n",
              "\n",
              "           category main_category currency  deadline    goal  \\\n",
              "0         Immersive       Theater      USD  1/1/2015   15000   \n",
              "1             Drama  Film & Video      GBP  1/1/2015    4500   \n",
              "2        Public Art           Art      USD  1/1/2015   60000   \n",
              "3       Video Games         Games      USD  1/1/2015   20000   \n",
              "4           Apparel       Fashion      USD  1/1/2015    8000   \n",
              "...             ...           ...      ...       ...     ...   \n",
              "191580         Apps    Technology      EUR  3/2/2018    9000   \n",
              "191581        Print    Journalism      GBP  3/2/2018    5000   \n",
              "191582        Music         Music      USD  3/3/2018   10000   \n",
              "191583        Drama  Film & Video      USD  3/3/2018    5500   \n",
              "191584         Apps    Technology      GBP  3/3/2018  150000   \n",
              "\n",
              "                launched   pledged       state  backers country  usd pledged  \\\n",
              "0        12/4/2014 21:37  11880.18      failed       46      US     11880.18   \n",
              "1        12/2/2014 18:10   4843.00  successful       67      GB      7560.32   \n",
              "2       11/19/2014 23:14  18087.00    canceled      204      US     18087.00   \n",
              "3        12/2/2014 22:02      9.00    canceled        2      US         9.00   \n",
              "4       11/18/2014 21:17   1563.00      failed       16      US      1563.00   \n",
              "...                  ...       ...         ...      ...     ...          ...   \n",
              "191580    1/1/2018 15:40      0.00        live        0      FR         0.00   \n",
              "191581    1/1/2018 21:20    350.00        live        7      GB       364.86   \n",
              "191582     1/2/2018 8:11    174.00        live        3      US       174.00   \n",
              "191583     1/2/2018 1:16      0.00        live        0      US         0.00   \n",
              "191584     1/2/2018 3:26      0.00        live        0      GB         0.00   \n",
              "\n",
              "        usd_pledged_real  usd_goal_real  \n",
              "0               11880.18       15000.00  \n",
              "1                7477.46        6947.88  \n",
              "2               18087.00       60000.00  \n",
              "3                   9.00       20000.00  \n",
              "4                1563.00        8000.00  \n",
              "...                  ...            ...  \n",
              "191580              0.00       10923.26  \n",
              "191581            477.39        6819.89  \n",
              "191582            174.00       10000.00  \n",
              "191583              0.00        5500.00  \n",
              "191584              0.00      204596.60  \n",
              "\n",
              "[191585 rows x 15 columns]>"
            ]
          },
          "metadata": {},
          "execution_count": 12
        }
      ]
    },
    {
      "cell_type": "code",
      "source": [
        "import numpy as np\n",
        "import pandas as pd\n",
        "# describe data\n",
        "kickstart.describe()"
      ],
      "metadata": {
        "colab": {
          "base_uri": "https://localhost:8080/",
          "height": 300
        },
        "id": "6cgIGTSrXiuP",
        "outputId": "2a76f776-e25a-41e9-b455-624ec1ada3bf"
      },
      "execution_count": 15,
      "outputs": [
        {
          "output_type": "execute_result",
          "data": {
            "text/plain": [
              "                 ID          goal       pledged        backers   usd pledged  \\\n",
              "count  1.915850e+05  1.915850e+05  1.915850e+05  191585.000000  1.884460e+05   \n",
              "mean   1.074702e+09  6.802579e+04  1.180005e+04     112.877856  6.433574e+03   \n",
              "std    6.190040e+08  1.490468e+06  1.154681e+05    1018.007075  8.641710e+04   \n",
              "min    1.852000e+04  1.000000e+00  0.000000e+00       0.000000  0.000000e+00   \n",
              "25%    5.394764e+08  2.000000e+03  1.300000e+01       1.000000  7.700000e-01   \n",
              "50%    1.075748e+09  6.500000e+03  4.070000e+02       8.000000  1.450000e+02   \n",
              "75%    1.609346e+09  2.000000e+04  3.823000e+03      50.000000  1.642553e+03   \n",
              "max    2.147476e+09  1.000000e+08  2.033899e+07  219382.000000  2.033899e+07   \n",
              "\n",
              "       usd_pledged_real  usd_goal_real  \n",
              "count      1.915850e+05   1.915850e+05  \n",
              "mean       1.044187e+04   6.028766e+04  \n",
              "std        1.075172e+05   1.413783e+06  \n",
              "min        0.000000e+00   4.900000e-01  \n",
              "25%        1.315000e+01   2.000000e+03  \n",
              "50%        3.929600e+02   6.262450e+03  \n",
              "75%        3.661280e+03   2.000000e+04  \n",
              "max        2.033899e+07   1.513959e+08  "
            ],
            "text/html": [
              "\n",
              "  <div id=\"df-3596af39-4224-42e1-823a-066ff41948b4\">\n",
              "    <div class=\"colab-df-container\">\n",
              "      <div>\n",
              "<style scoped>\n",
              "    .dataframe tbody tr th:only-of-type {\n",
              "        vertical-align: middle;\n",
              "    }\n",
              "\n",
              "    .dataframe tbody tr th {\n",
              "        vertical-align: top;\n",
              "    }\n",
              "\n",
              "    .dataframe thead th {\n",
              "        text-align: right;\n",
              "    }\n",
              "</style>\n",
              "<table border=\"1\" class=\"dataframe\">\n",
              "  <thead>\n",
              "    <tr style=\"text-align: right;\">\n",
              "      <th></th>\n",
              "      <th>ID</th>\n",
              "      <th>goal</th>\n",
              "      <th>pledged</th>\n",
              "      <th>backers</th>\n",
              "      <th>usd pledged</th>\n",
              "      <th>usd_pledged_real</th>\n",
              "      <th>usd_goal_real</th>\n",
              "    </tr>\n",
              "  </thead>\n",
              "  <tbody>\n",
              "    <tr>\n",
              "      <th>count</th>\n",
              "      <td>1.915850e+05</td>\n",
              "      <td>1.915850e+05</td>\n",
              "      <td>1.915850e+05</td>\n",
              "      <td>191585.000000</td>\n",
              "      <td>1.884460e+05</td>\n",
              "      <td>1.915850e+05</td>\n",
              "      <td>1.915850e+05</td>\n",
              "    </tr>\n",
              "    <tr>\n",
              "      <th>mean</th>\n",
              "      <td>1.074702e+09</td>\n",
              "      <td>6.802579e+04</td>\n",
              "      <td>1.180005e+04</td>\n",
              "      <td>112.877856</td>\n",
              "      <td>6.433574e+03</td>\n",
              "      <td>1.044187e+04</td>\n",
              "      <td>6.028766e+04</td>\n",
              "    </tr>\n",
              "    <tr>\n",
              "      <th>std</th>\n",
              "      <td>6.190040e+08</td>\n",
              "      <td>1.490468e+06</td>\n",
              "      <td>1.154681e+05</td>\n",
              "      <td>1018.007075</td>\n",
              "      <td>8.641710e+04</td>\n",
              "      <td>1.075172e+05</td>\n",
              "      <td>1.413783e+06</td>\n",
              "    </tr>\n",
              "    <tr>\n",
              "      <th>min</th>\n",
              "      <td>1.852000e+04</td>\n",
              "      <td>1.000000e+00</td>\n",
              "      <td>0.000000e+00</td>\n",
              "      <td>0.000000</td>\n",
              "      <td>0.000000e+00</td>\n",
              "      <td>0.000000e+00</td>\n",
              "      <td>4.900000e-01</td>\n",
              "    </tr>\n",
              "    <tr>\n",
              "      <th>25%</th>\n",
              "      <td>5.394764e+08</td>\n",
              "      <td>2.000000e+03</td>\n",
              "      <td>1.300000e+01</td>\n",
              "      <td>1.000000</td>\n",
              "      <td>7.700000e-01</td>\n",
              "      <td>1.315000e+01</td>\n",
              "      <td>2.000000e+03</td>\n",
              "    </tr>\n",
              "    <tr>\n",
              "      <th>50%</th>\n",
              "      <td>1.075748e+09</td>\n",
              "      <td>6.500000e+03</td>\n",
              "      <td>4.070000e+02</td>\n",
              "      <td>8.000000</td>\n",
              "      <td>1.450000e+02</td>\n",
              "      <td>3.929600e+02</td>\n",
              "      <td>6.262450e+03</td>\n",
              "    </tr>\n",
              "    <tr>\n",
              "      <th>75%</th>\n",
              "      <td>1.609346e+09</td>\n",
              "      <td>2.000000e+04</td>\n",
              "      <td>3.823000e+03</td>\n",
              "      <td>50.000000</td>\n",
              "      <td>1.642553e+03</td>\n",
              "      <td>3.661280e+03</td>\n",
              "      <td>2.000000e+04</td>\n",
              "    </tr>\n",
              "    <tr>\n",
              "      <th>max</th>\n",
              "      <td>2.147476e+09</td>\n",
              "      <td>1.000000e+08</td>\n",
              "      <td>2.033899e+07</td>\n",
              "      <td>219382.000000</td>\n",
              "      <td>2.033899e+07</td>\n",
              "      <td>2.033899e+07</td>\n",
              "      <td>1.513959e+08</td>\n",
              "    </tr>\n",
              "  </tbody>\n",
              "</table>\n",
              "</div>\n",
              "      <button class=\"colab-df-convert\" onclick=\"convertToInteractive('df-3596af39-4224-42e1-823a-066ff41948b4')\"\n",
              "              title=\"Convert this dataframe to an interactive table.\"\n",
              "              style=\"display:none;\">\n",
              "        \n",
              "  <svg xmlns=\"http://www.w3.org/2000/svg\" height=\"24px\"viewBox=\"0 0 24 24\"\n",
              "       width=\"24px\">\n",
              "    <path d=\"M0 0h24v24H0V0z\" fill=\"none\"/>\n",
              "    <path d=\"M18.56 5.44l.94 2.06.94-2.06 2.06-.94-2.06-.94-.94-2.06-.94 2.06-2.06.94zm-11 1L8.5 8.5l.94-2.06 2.06-.94-2.06-.94L8.5 2.5l-.94 2.06-2.06.94zm10 10l.94 2.06.94-2.06 2.06-.94-2.06-.94-.94-2.06-.94 2.06-2.06.94z\"/><path d=\"M17.41 7.96l-1.37-1.37c-.4-.4-.92-.59-1.43-.59-.52 0-1.04.2-1.43.59L10.3 9.45l-7.72 7.72c-.78.78-.78 2.05 0 2.83L4 21.41c.39.39.9.59 1.41.59.51 0 1.02-.2 1.41-.59l7.78-7.78 2.81-2.81c.8-.78.8-2.07 0-2.86zM5.41 20L4 18.59l7.72-7.72 1.47 1.35L5.41 20z\"/>\n",
              "  </svg>\n",
              "      </button>\n",
              "      \n",
              "  <style>\n",
              "    .colab-df-container {\n",
              "      display:flex;\n",
              "      flex-wrap:wrap;\n",
              "      gap: 12px;\n",
              "    }\n",
              "\n",
              "    .colab-df-convert {\n",
              "      background-color: #E8F0FE;\n",
              "      border: none;\n",
              "      border-radius: 50%;\n",
              "      cursor: pointer;\n",
              "      display: none;\n",
              "      fill: #1967D2;\n",
              "      height: 32px;\n",
              "      padding: 0 0 0 0;\n",
              "      width: 32px;\n",
              "    }\n",
              "\n",
              "    .colab-df-convert:hover {\n",
              "      background-color: #E2EBFA;\n",
              "      box-shadow: 0px 1px 2px rgba(60, 64, 67, 0.3), 0px 1px 3px 1px rgba(60, 64, 67, 0.15);\n",
              "      fill: #174EA6;\n",
              "    }\n",
              "\n",
              "    [theme=dark] .colab-df-convert {\n",
              "      background-color: #3B4455;\n",
              "      fill: #D2E3FC;\n",
              "    }\n",
              "\n",
              "    [theme=dark] .colab-df-convert:hover {\n",
              "      background-color: #434B5C;\n",
              "      box-shadow: 0px 1px 3px 1px rgba(0, 0, 0, 0.15);\n",
              "      filter: drop-shadow(0px 1px 2px rgba(0, 0, 0, 0.3));\n",
              "      fill: #FFFFFF;\n",
              "    }\n",
              "  </style>\n",
              "\n",
              "      <script>\n",
              "        const buttonEl =\n",
              "          document.querySelector('#df-3596af39-4224-42e1-823a-066ff41948b4 button.colab-df-convert');\n",
              "        buttonEl.style.display =\n",
              "          google.colab.kernel.accessAllowed ? 'block' : 'none';\n",
              "\n",
              "        async function convertToInteractive(key) {\n",
              "          const element = document.querySelector('#df-3596af39-4224-42e1-823a-066ff41948b4');\n",
              "          const dataTable =\n",
              "            await google.colab.kernel.invokeFunction('convertToInteractive',\n",
              "                                                     [key], {});\n",
              "          if (!dataTable) return;\n",
              "\n",
              "          const docLinkHtml = 'Like what you see? Visit the ' +\n",
              "            '<a target=\"_blank\" href=https://colab.research.google.com/notebooks/data_table.ipynb>data table notebook</a>'\n",
              "            + ' to learn more about interactive tables.';\n",
              "          element.innerHTML = '';\n",
              "          dataTable['output_type'] = 'display_data';\n",
              "          await google.colab.output.renderOutput(dataTable, element);\n",
              "          const docLink = document.createElement('div');\n",
              "          docLink.innerHTML = docLinkHtml;\n",
              "          element.appendChild(docLink);\n",
              "        }\n",
              "      </script>\n",
              "    </div>\n",
              "  </div>\n",
              "  "
            ]
          },
          "metadata": {},
          "execution_count": 15
        }
      ]
    },
    {
      "cell_type": "markdown",
      "source": [
        "2. What do you think is the class attribute?\n",
        "\n",
        "I think **\"state\"** attribute is the class atttribute here because it is\n",
        "depending on other attributes like **\"pledgers\"** and **\"goal\"** in the kickstart dataset.\n",
        "\n"
      ],
      "metadata": {
        "id": "42MZfGO7tU-A"
      }
    },
    {
      "cell_type": "markdown",
      "source": [
        "3.Calculate the following for the CLASS ATTRIBUTE in your dataset: The 5-number summary and the standard deviation. If your class attribute is categorical, be ready to calculate a 5 number summary and standard deviation for the next best numeric attribute."
      ],
      "metadata": {
        "id": "X-N7O_xgxnvc"
      }
    },
    {
      "cell_type": "code",
      "source": [
        "#Calculating the 5-number summary and the standard deviation for numeric attribute-1 : backers\n",
        "\n",
        "import statistics \n",
        "#max and min values\n",
        "kickstart_min, kickstart_max = np.min(kickstart['state'].value_counts()), np.max(kickstart['state'].value_counts())\n",
        "\n",
        "#Quartiles of the attribute\n",
        "quartiles = np.percentile(kickstart['state'].value_counts(), [25,50,75])\n",
        "\n",
        "#Finding the Standard deviation for the goal attribute.\n",
        "s_dev = statistics.stdev(kickstart['state'].value_counts())\n",
        "\n",
        "print(\"min value:\\n\", kickstart['state'].value_counts(),\"\\n\")\n",
        "print(\"max value:\\n\", kickstart['state'].value_counts(),\"\\n\")\n",
        "print(\"lower quartile:\", quartiles[0])\n",
        "print(\"Median:\", quartiles[1])\n",
        "print(\"upper quartile:\", quartiles[2])\n",
        "print(\"standard deviation: \",s_dev)"
      ],
      "metadata": {
        "colab": {
          "base_uri": "https://localhost:8080/"
        },
        "id": "Dfq6Ji8Qxvrj",
        "outputId": "0fd878d1-878c-4337-b97e-d85c96cf65d4"
      },
      "execution_count": 67,
      "outputs": [
        {
          "output_type": "stream",
          "name": "stdout",
          "text": [
            "min value:\n",
            " failed        102667\n",
            "successful     59333\n",
            "canceled       22405\n",
            "undefined       2918\n",
            "live            2799\n",
            "suspended       1463\n",
            "Name: state, dtype: int64 \n",
            "\n",
            "max value:\n",
            " failed        102667\n",
            "successful     59333\n",
            "canceled       22405\n",
            "undefined       2918\n",
            "live            2799\n",
            "suspended       1463\n",
            "Name: state, dtype: int64 \n",
            "\n",
            "lower quartile: 2828.75\n",
            "Median: 12661.5\n",
            "upper quartile: 50101.0\n",
            "standard deviation:  41143.46264677618\n"
          ]
        }
      ]
    },
    {
      "cell_type": "code",
      "source": [
        "#This is the simplest way to find 5 number summary and Standard deviation\n",
        "kickstart['state'].value_counts().describe()"
      ],
      "metadata": {
        "colab": {
          "base_uri": "https://localhost:8080/"
        },
        "id": "bSNEo43Xy8ap",
        "outputId": "2364990f-d654-4c79-b10b-61b9f873d6ec"
      },
      "execution_count": 64,
      "outputs": [
        {
          "output_type": "execute_result",
          "data": {
            "text/plain": [
              "count         6.000000\n",
              "mean      31930.833333\n",
              "std       41143.462647\n",
              "min        1463.000000\n",
              "25%        2828.750000\n",
              "50%       12661.500000\n",
              "75%       50101.000000\n",
              "max      102667.000000\n",
              "Name: state, dtype: float64"
            ]
          },
          "metadata": {},
          "execution_count": 64
        }
      ]
    },
    {
      "cell_type": "code",
      "source": [
        "#Since Class attribute is Categorical, Finding 5 number summary and Standard deviation for pledged attribute\n",
        "kickstart['pledged'].describe()"
      ],
      "metadata": {
        "colab": {
          "base_uri": "https://localhost:8080/"
        },
        "id": "GPHaHXsM0nej",
        "outputId": "bbe57b3b-e2ed-4e1d-c888-73a4167406aa"
      },
      "execution_count": 72,
      "outputs": [
        {
          "output_type": "execute_result",
          "data": {
            "text/plain": [
              "count    1.915850e+05\n",
              "mean     1.180005e+04\n",
              "std      1.154681e+05\n",
              "min      0.000000e+00\n",
              "25%      1.300000e+01\n",
              "50%      4.070000e+02\n",
              "75%      3.823000e+03\n",
              "max      2.033899e+07\n",
              "Name: pledged, dtype: float64"
            ]
          },
          "metadata": {},
          "execution_count": 72
        }
      ]
    },
    {
      "cell_type": "markdown",
      "source": [
        "4. For the class attribute, build a boxplot."
      ],
      "metadata": {
        "id": "PzPNB7oQ21NL"
      }
    },
    {
      "cell_type": "code",
      "source": [
        "#Building boxplot for state Attribute \n",
        "kickstart['state'].value_counts().reset_index().boxplot()"
      ],
      "metadata": {
        "colab": {
          "base_uri": "https://localhost:8080/",
          "height": 283
        },
        "id": "y8Z07xEfIiAH",
        "outputId": "84701717-8721-4aab-c76a-f0acc76b224c"
      },
      "execution_count": 59,
      "outputs": [
        {
          "output_type": "execute_result",
          "data": {
            "text/plain": [
              "<matplotlib.axes._subplots.AxesSubplot at 0x7fc684fc5850>"
            ]
          },
          "metadata": {},
          "execution_count": 59
        },
        {
          "output_type": "display_data",
          "data": {
            "text/plain": [
              "<Figure size 432x288 with 1 Axes>"
            ],
            "image/png": "[encoded data removed]"
          },
          "metadata": {
            "needs_background": "light"
          }
        }
      ]
    },
    {
      "cell_type": "markdown",
      "source": [
        "5. For each of the two numeric attributes that have identified, calculating the 5-number summary and the standard deviation. "
      ],
      "metadata": {
        "id": "CXzSSZOpbRr4"
      }
    },
    {
      "cell_type": "code",
      "source": [
        "#Calculating the 5-number summary and the standard deviation for numeric attribute-1 : goal\n",
        "\n",
        "kickstart['goal'].describe()"
      ],
      "metadata": {
        "colab": {
          "base_uri": "https://localhost:8080/"
        },
        "id": "CErq0okLbjVj",
        "outputId": "638fe455-a5a3-44a8-d80f-09cdd7edcee8"
      },
      "execution_count": 68,
      "outputs": [
        {
          "output_type": "execute_result",
          "data": {
            "text/plain": [
              "count    1.915850e+05\n",
              "mean     6.802579e+04\n",
              "std      1.490468e+06\n",
              "min      1.000000e+00\n",
              "25%      2.000000e+03\n",
              "50%      6.500000e+03\n",
              "75%      2.000000e+04\n",
              "max      1.000000e+08\n",
              "Name: goal, dtype: float64"
            ]
          },
          "metadata": {},
          "execution_count": 68
        }
      ]
    },
    {
      "cell_type": "code",
      "source": [
        "#Calculating the 5-number summary and the standard deviation for numeric attribute-2 : backers\n",
        "\n",
        "kickstart['backers'].describe()"
      ],
      "metadata": {
        "colab": {
          "base_uri": "https://localhost:8080/"
        },
        "id": "Ib1QneIWr5gA",
        "outputId": "f5819a9a-873d-45a0-d482-dc80c4c3d306"
      },
      "execution_count": 69,
      "outputs": [
        {
          "output_type": "execute_result",
          "data": {
            "text/plain": [
              "count    191585.000000\n",
              "mean        112.877856\n",
              "std        1018.007075\n",
              "min           0.000000\n",
              "25%           1.000000\n",
              "50%           8.000000\n",
              "75%          50.000000\n",
              "max      219382.000000\n",
              "Name: backers, dtype: float64"
            ]
          },
          "metadata": {},
          "execution_count": 69
        }
      ]
    },
    {
      "cell_type": "markdown",
      "source": [
        "6. For each of the two numeric attributes that have identified, calculating the Euclidian Distance to the CLASS ATTRIBUTE. \n",
        "\n",
        "Here class attribute is state which is categorical so I am assuming backers as class attribute."
      ],
      "metadata": {
        "id": "k1o-y1sSZjoy"
      }
    },
    {
      "cell_type": "code",
      "source": [
        "p1 = np.array(kickstart.goal)\n",
        "p2 = np.array(kickstart.backers)\n",
        "d = np.linalg.norm(p2 - p1)\n",
        "print(\"The distance between goal and bakers is \", d)"
      ],
      "metadata": {
        "colab": {
          "base_uri": "https://localhost:8080/"
        },
        "id": "_1FDnrNUaLmH",
        "outputId": "94b1be7f-62e8-4745-ff16-b1cb53a52fee"
      },
      "execution_count": 84,
      "outputs": [
        {
          "output_type": "stream",
          "name": "stdout",
          "text": [
            "The distance between goal and bakers is  653059306.4763048\n"
          ]
        }
      ]
    },
    {
      "cell_type": "code",
      "source": [
        "p1 = np.array(kickstart.pledged)\n",
        "p2 = np.array(kickstart.backers)\n",
        "d = np.linalg.norm(p1 - p2)\n",
        "print(\"The distance between goal and bakers is \", d)"
      ],
      "metadata": {
        "colab": {
          "base_uri": "https://localhost:8080/"
        },
        "id": "QS04ZT_3a9if",
        "outputId": "06b14d2e-6ea8-434f-adca-80607f47c359"
      },
      "execution_count": 40,
      "outputs": [
        {
          "output_type": "stream",
          "name": "stdout",
          "text": [
            "The distance between goal and bakers is  50494079.90643164\n"
          ]
        }
      ]
    },
    {
      "cell_type": "markdown",
      "source": [
        "7. INTERPRET YOUR RESULTS: What does the output to each of the questions above tell you about each attribute you have looked at AND about the distance between each of the two numeric attributes and the class attribute. FOR WHAT  PURPOSE OR ACTION could your results be useful? \n",
        "\n",
        "The output for each of the question tells us information about kickstart dataset and properties of its attributes. From\n",
        "\n",
        "Question 1 -----> I understand the data set structure.\n",
        "\n",
        "Question 2 -----> I came to know what is class attribute\n",
        "\n",
        "Question 3 -----> Got knowledge about 5 number summary and standard deviation\n",
        "\n",
        "Question 4 -----> Got aware of boxplot \n",
        "\n",
        "Question 5 -----> Learned about describe() and how to use it\n",
        "\n",
        "Question 6 -----> Learned about calculating the Euclidian Distance a numerical attribute to the CLASS ATTRIBUTE is not possible when class attribute is categorical.\n",
        "\n",
        "I believe these results are helpful and useful to analyze and understand the a dataset."
      ],
      "metadata": {
        "id": "JE7HL1zo35AW"
      }
    }
  ]
}